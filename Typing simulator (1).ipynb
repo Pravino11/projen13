{
 "cells": [
  {
   "cell_type": "code",
   "execution_count": null,
   "metadata": {},
   "outputs": [],
   "source": [
    "import random\n",
    "from tkinter import *\n",
    "import tkinter.font as tkFont\n",
    "import time\n",
    "i = 0\n",
    "\n",
    "# CREATING TKINTER WINDOW\n",
    "root = Tk(className=\" Typing Simulator \")\n",
    "root.geometry(\"900x500\")\n",
    "\n",
    "## SETTING BACKGROUND OF THE WINDOW  ##\n",
    "root.configure(bg='grey')\n",
    "\n",
    "\n",
    "\n",
    "## TITLE FOR THE PROJECT=\"TYPING SPEED TEST\" ##\n",
    "title = Label(root, text=\"TYPING SPEED TEST\", anchor=CENTER, font=\"Arial 50 bold\", bg=\"grey\", fg='black', relief=\"solid\")\n",
    "title.place(x=115, y=10)\n",
    "\n",
    "\n",
    "# // INPUT BOX FROM THE USER    //##\n",
    "large_font = ('Verdana',30)\n",
    "e = Entry(root, width='30', bg=\"white\", fg=\"black\",font=large_font)\n",
    "e.place(x=67, y=300)\n",
    "e.focus()\n",
    "\n",
    "\n",
    "# Clear ENTRY\n",
    "def clearfunc():\n",
    "    e.delete(0, 'end')\n",
    "\n",
    "\n",
    "# CREATING RESET BUTTON\n",
    "reset = Button(root, text=\"RESET\", bg=\"blue\", fg=\"white\", font=\"helvetica 20\", padx=20, pady=10, relief=RAISED,\n",
    "               command=clearfunc)\n",
    "reset.place(x=90, y=370)\n",
    "\n",
    "# DISPLAY SENTENCES\n",
    "fontStyle = tkFont.Font(family=\"Lucida Grande\", size=25)\n",
    "text = Label(root, height='6', width='40', fg='red', bg='grey', font=fontStyle, wraplength=500, anchor=CENTER,\n",
    "             justify=LEFT)\n",
    "text.place(x='45', y='90')\n",
    "def randomTXT():\n",
    "    f = open(r'C:\\Users\\PRAVINO\\Downloads\\c\\Sentence.txt').read()\n",
    "    sentences = f.split('\\n')\n",
    "    display = random.choice(sentences)\n",
    "    text.config(text=display)\n",
    "randomTXT()\n",
    "\n",
    "# CREATING SWITCH UP BUTTON-CHANGES SENTENCES TO BE TRACED ACCORFING TO YOUR LIKINGS\n",
    "switch = Button(root, text=\"SWITCH-UP\", bg='blue', fg='white', font=\"helvetica 20\", padx=10, pady=10, relief=RAISED, command=randomTXT)\n",
    "switch.place(x=300, y=370)\n",
    "# CALCULATE TIME TAKEN,TOTAL WORDS,SPEED\n",
    "t0 = time.time()\n",
    "t1 = time.time()\n",
    "st = e.get()\n",
    "w_count = len(st.split())\n",
    "x = (t1-t0)\n",
    "z = ((w_count)*60)/t1\n",
    "\n",
    "def calculate(*args,**kwargs):\n",
    "\n",
    "      \n",
    "   \n",
    "    mylabel = Label(root, text=\"TIME TAKEN: \" + str(round(x)))\n",
    "    mylabel.place(x=85, y=445)\n",
    "    mylabel = Label(root, text=\"WPM \" + str(z))\n",
    "    mylabel.place(x=315, y=445)\n",
    "    \n",
    "    \n",
    " \n",
    "\n",
    "                    \n",
    "calculate()\n",
    "text_type_btn = Button(root, text=\"RESULT\", font=\"helvetica 20\", padx=10, pady=10, bg=\"blue\", fg='white', relief=RAISED, command=calculate).place(x=550,y=370)\n",
    "\n",
    "root.mainloop()\n"
   ]
  },
  {
   "cell_type": "code",
   "execution_count": null,
   "metadata": {},
   "outputs": [],
   "source": []
  },
  {
   "cell_type": "code",
   "execution_count": null,
   "metadata": {},
   "outputs": [],
   "source": []
  },
  {
   "cell_type": "code",
   "execution_count": 73,
   "metadata": {},
   "outputs": [],
   "source": [
    "\n"
   ]
  },
  {
   "cell_type": "code",
   "execution_count": null,
   "metadata": {},
   "outputs": [],
   "source": []
  },
  {
   "cell_type": "code",
   "execution_count": null,
   "metadata": {},
   "outputs": [],
   "source": []
  }
 ],
 "metadata": {
  "kernelspec": {
   "display_name": "Python 3",
   "language": "python",
   "name": "python3"
  },
  "language_info": {
   "codemirror_mode": {
    "name": "ipython",
    "version": 3
   },
   "file_extension": ".py",
   "mimetype": "text/x-python",
   "name": "python",
   "nbconvert_exporter": "python",
   "pygments_lexer": "ipython3",
   "version": "3.8.5"
  }
 },
 "nbformat": 4,
 "nbformat_minor": 4
}
